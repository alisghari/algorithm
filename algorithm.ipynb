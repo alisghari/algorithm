{
  "nbformat": 4,
  "nbformat_minor": 0,
  "metadata": {
    "colab": {
      "name": "algorithm.ipynb",
      "provenance": [],
      "collapsed_sections": []
    },
    "kernelspec": {
      "name": "python3",
      "display_name": "Python 3"
    },
    "language_info": {
      "name": "python"
    }
  },
  "cells": [
    {
      "cell_type": "code",
      "metadata": {
        "colab": {
          "base_uri": "https://localhost:8080/",
          "height": 70
        },
        "id": "heqGpMTvSedX",
        "outputId": "b5b1060b-16c8-4dc7-bd34-3f3d6da35b20"
      },
      "source": [
        "def binary_search(A, l, h, k):\n",
        "    if h >= l:\n",
        "        mid = int(l + (h - l)/2)\n",
        "        print(mid)\n",
        "        if A[mid] == k:\n",
        "            return 'k is found'\n",
        "        elif A[mid] > k:\n",
        "            return binary_search(A, l, mid-1, k)\n",
        "        else:\n",
        "            return binary_search(A, mid+1, h, k)\n",
        "    else:\n",
        "        return 'k is not found'\n",
        "A=[1,2,3,5,8]\n",
        "binary_search(A, 0, (len(A)-1), 5)\n"
      ],
      "execution_count": null,
      "outputs": [
        {
          "output_type": "stream",
          "name": "stdout",
          "text": [
            "2\n",
            "3\n"
          ]
        },
        {
          "output_type": "execute_result",
          "data": {
            "application/vnd.google.colaboratory.intrinsic+json": {
              "type": "string"
            },
            "text/plain": [
              "'k is found'"
            ]
          },
          "metadata": {},
          "execution_count": 6
        }
      ]
    },
    {
      "cell_type": "code",
      "metadata": {
        "colab": {
          "base_uri": "https://localhost:8080/"
        },
        "id": "mgaeaLKtT4ZL",
        "outputId": "4ce1d8cd-9c94-47cc-ca08-dd75af58c99d"
      },
      "source": [
        "def binarySearch (arr, l, r, x):\n",
        " \n",
        "    \n",
        "    if r >= l:\n",
        " \n",
        "        mid = l + (r - l) // 2\n",
        " \n",
        "        if arr[mid] == x:\n",
        "            return mid\n",
        "         \n",
        "        # If element is smaller than mid, then it\n",
        "        # can only be present in left subarray\n",
        "        elif arr[mid] > x:\n",
        "            return binarySearch(arr, l, mid-1, x)\n",
        " \n",
        "        # Else the element can only be present\n",
        "        # in right subarray\n",
        "        else:\n",
        "            return binarySearch(arr, mid + 1, r, x)\n",
        " \n",
        "    else:\n",
        "        \n",
        "        return-1\n",
        " \n",
        "\n",
        "arr = [ 1,2,3,5,8 ]\n",
        "x = 6\n",
        " \n",
        "\n",
        "result = binarySearch(arr, 0, len(arr)-1, x)\n",
        " \n",
        "if result != -1:\n",
        "    print (\"Element is present at index % d\" % result)\n",
        "else:\n",
        "    print (\"Element is not present in array\")"
      ],
      "execution_count": null,
      "outputs": [
        {
          "output_type": "stream",
          "name": "stdout",
          "text": [
            "Element is not present in array\n"
          ]
        }
      ]
    },
    {
      "cell_type": "code",
      "metadata": {
        "colab": {
          "base_uri": "https://localhost:8080/"
        },
        "id": "67QWjQhAYcqe",
        "outputId": "572c8090-24ee-45b5-afa1-bfb2e33f018c"
      },
      "source": [
        "def power(a,b):\n",
        "\tif b==0:\n",
        "\t\treturn 1\n",
        "\telif a==0:\n",
        "\t\treturn 0\n",
        "\telif b==1:\n",
        "\t\treturn a\n",
        "\telse:\n",
        "\t\treturn a*power(a,b-1)\n",
        "\n",
        "print(power(3,4))"
      ],
      "execution_count": null,
      "outputs": [
        {
          "output_type": "stream",
          "name": "stdout",
          "text": [
            "81\n"
          ]
        }
      ]
    },
    {
      "cell_type": "code",
      "metadata": {
        "colab": {
          "base_uri": "https://localhost:8080/"
        },
        "id": "xwjmhEvAYfRm",
        "outputId": "35192b5c-67b3-4ac7-d5d8-3584f364a2e4"
      },
      "source": [
        "def bubbleSort(list):\n",
        "    for passnum in range(len(list)-1,0,-1):\n",
        "        for i in range(passnum):\n",
        "            if list[i]>list[i+1]:\n",
        "                temp = list[i]\n",
        "                list[i] = list[i+1]\n",
        "                list[i+1] = temp\n",
        "    return list\n",
        "li=[29,13,22,37,52,49,46,71,56]\n",
        "bubbleSort(li)"
      ],
      "execution_count": null,
      "outputs": [
        {
          "output_type": "execute_result",
          "data": {
            "text/plain": [
              "[13, 22, 29, 37, 46, 49, 52, 56, 71]"
            ]
          },
          "metadata": {},
          "execution_count": 13
        }
      ]
    },
    {
      "cell_type": "code",
      "metadata": {
        "colab": {
          "base_uri": "https://localhost:8080/"
        },
        "id": "i_QvuxvUZGJY",
        "outputId": "350e9791-e718-4662-ae0e-c83339399712"
      },
      "source": [
        "def mergeSort(myList):\n",
        "    if len(myList) > 1:\n",
        "        mid = len(myList) // 2\n",
        "        left = myList[:mid]\n",
        "        right = myList[mid:]\n",
        "\n",
        "        \n",
        "        mergeSort(left)\n",
        "        mergeSort(right)\n",
        "\n",
        "        \n",
        "        i = 0\n",
        "        j = 0\n",
        "        \n",
        "        \n",
        "        k = 0\n",
        "        \n",
        "        while i < len(left) and j < len(right):\n",
        "            if left[i] < right[j]:\n",
        "              \n",
        "              myList[k] = left[i]\n",
        "              \n",
        "              i += 1\n",
        "            else:\n",
        "                myList[k] = right[j]\n",
        "                j += 1\n",
        "            \n",
        "            k += 1\n",
        "\n",
        "        \n",
        "        while i < len(left):\n",
        "            myList[k] = left[i]\n",
        "            i += 1\n",
        "            k += 1\n",
        "\n",
        "        while j < len(right):\n",
        "            myList[k]=right[j]\n",
        "            j += 1\n",
        "            k += 1\n",
        "list= [29,13,22,37,52,49,46,71,56]\n",
        "mergeSort(list)\n",
        "print(list)"
      ],
      "execution_count": null,
      "outputs": [
        {
          "output_type": "stream",
          "name": "stdout",
          "text": [
            "[13, 22, 29, 37, 46, 49, 52, 56, 71]\n"
          ]
        }
      ]
    },
    {
      "cell_type": "code",
      "metadata": {
        "colab": {
          "base_uri": "https://localhost:8080/"
        },
        "id": "8MP9SBEkuFPe",
        "outputId": "b03a903c-bdc7-4000-d232-31f2d784a1f9"
      },
      "source": [
        "def quickSort(data_list):\n",
        "   quickSortHlp(data_list,0,len(data_list)-1)\n",
        "\n",
        "def quickSortHlp(data_list,first,last):\n",
        "   if first < last:\n",
        "\n",
        "       splitpoint = partition(data_list,first,last)\n",
        "\n",
        "       quickSortHlp(data_list,first,splitpoint-1)\n",
        "       quickSortHlp(data_list,splitpoint+1,last)\n",
        "\n",
        "\n",
        "def partition(data_list,first,last):\n",
        "   pivotvalue = data_list[first]\n",
        "\n",
        "   leftmark = first+1\n",
        "   rightmark = last\n",
        "\n",
        "   done = False\n",
        "   while not done:\n",
        "\n",
        "       while leftmark <= rightmark and data_list[leftmark] <= pivotvalue:\n",
        "           leftmark = leftmark + 1\n",
        "\n",
        "       while data_list[rightmark] >= pivotvalue and rightmark >= leftmark:\n",
        "           rightmark = rightmark -1\n",
        "\n",
        "       if rightmark < leftmark:\n",
        "           done = True\n",
        "       else:\n",
        "           temp = data_list[leftmark]\n",
        "           data_list[leftmark] = data_list[rightmark]\n",
        "           data_list[rightmark] = temp\n",
        "\n",
        "   temp = data_list[first]\n",
        "   data_list[first] = data_list[rightmark]\n",
        "   data_list[rightmark] = temp\n",
        "\n",
        "\n",
        "   return rightmark\n",
        "\n",
        "data_list = [29,13,22,37,52,49,46,71,56]\n",
        "quickSort(data_list)\n",
        "print(data_list)"
      ],
      "execution_count": 1,
      "outputs": [
        {
          "output_type": "stream",
          "name": "stdout",
          "text": [
            "[13, 22, 29, 37, 46, 49, 52, 56, 71]\n"
          ]
        }
      ]
    }
  ]
}